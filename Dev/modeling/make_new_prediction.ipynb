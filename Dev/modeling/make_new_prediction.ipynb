{
 "cells": [
  {
   "cell_type": "code",
   "execution_count": 44,
   "id": "5d154a12",
   "metadata": {},
   "outputs": [],
   "source": [
    "import numpy as np\n",
    "import pandas as pd\n",
    "from db_connection import connect\n",
    "\n",
    "# imports for database\n",
    "import psycopg2 as pg\n",
    "from db_connection import connect\n",
    "from joblib import dump,load\n",
    "import datetime\n"
   ]
  },
  {
   "cell_type": "code",
   "execution_count": 53,
   "id": "439f8415",
   "metadata": {},
   "outputs": [],
   "source": [
    "# SQL Query\n",
    "sql = \"\"\"\n",
    "SELECT * FROM bitcoin\n",
    "ORDER BY price_date DESC\n",
    "LIMIT 7\n",
    "\n",
    "\"\"\""
   ]
  },
  {
   "cell_type": "code",
   "execution_count": 68,
   "id": "0c7714f5",
   "metadata": {},
   "outputs": [
    {
     "name": "stdout",
     "output_type": "stream",
     "text": [
      "Connecting to the PostgreSQL database...\n",
      "PostgreSQL database version:\n",
      "('PostgreSQL 13.2 on x86_64-apple-darwin, compiled by Apple clang version 11.0.3 (clang-1103.0.32.59), 64-bit',)\n",
      "Connection successful\n"
     ]
    }
   ],
   "source": [
    "# read the raw bitcoin data from DB\n",
    "df = pd.read_sql(sql=sql,con=connect())"
   ]
  },
  {
   "cell_type": "code",
   "execution_count": 69,
   "id": "b146e031",
   "metadata": {},
   "outputs": [],
   "source": [
    "# drop the entry_id and date column\n",
    "df.drop(['entry_id'],axis=1,inplace=True)"
   ]
  },
  {
   "cell_type": "code",
   "execution_count": 70,
   "id": "8a1b057c",
   "metadata": {},
   "outputs": [
    {
     "data": {
      "text/html": [
       "<div>\n",
       "<style scoped>\n",
       "    .dataframe tbody tr th:only-of-type {\n",
       "        vertical-align: middle;\n",
       "    }\n",
       "\n",
       "    .dataframe tbody tr th {\n",
       "        vertical-align: top;\n",
       "    }\n",
       "\n",
       "    .dataframe thead th {\n",
       "        text-align: right;\n",
       "    }\n",
       "</style>\n",
       "<table border=\"1\" class=\"dataframe\">\n",
       "  <thead>\n",
       "    <tr style=\"text-align: right;\">\n",
       "      <th></th>\n",
       "      <th>price_date</th>\n",
       "      <th>open_price</th>\n",
       "      <th>high</th>\n",
       "      <th>low</th>\n",
       "      <th>close_price</th>\n",
       "      <th>volume</th>\n",
       "    </tr>\n",
       "  </thead>\n",
       "  <tbody>\n",
       "    <tr>\n",
       "      <th>0</th>\n",
       "      <td>2021-12-16</td>\n",
       "      <td>48900.46</td>\n",
       "      <td>49425.57</td>\n",
       "      <td>47529.88</td>\n",
       "      <td>47665.43</td>\n",
       "      <td>27268150947</td>\n",
       "    </tr>\n",
       "    <tr>\n",
       "      <th>1</th>\n",
       "      <td>2021-12-15</td>\n",
       "      <td>48379.75</td>\n",
       "      <td>49473.96</td>\n",
       "      <td>46671.96</td>\n",
       "      <td>48896.72</td>\n",
       "      <td>36541828520</td>\n",
       "    </tr>\n",
       "    <tr>\n",
       "      <th>2</th>\n",
       "      <td>2021-12-14</td>\n",
       "      <td>46709.82</td>\n",
       "      <td>48431.40</td>\n",
       "      <td>46424.50</td>\n",
       "      <td>46612.63</td>\n",
       "      <td>34638619079</td>\n",
       "    </tr>\n",
       "    <tr>\n",
       "      <th>3</th>\n",
       "      <td>2021-12-13</td>\n",
       "      <td>50114.74</td>\n",
       "      <td>50205.00</td>\n",
       "      <td>45894.85</td>\n",
       "      <td>46737.48</td>\n",
       "      <td>32166727776</td>\n",
       "    </tr>\n",
       "    <tr>\n",
       "      <th>4</th>\n",
       "      <td>2021-12-12</td>\n",
       "      <td>49354.86</td>\n",
       "      <td>50724.87</td>\n",
       "      <td>48725.85</td>\n",
       "      <td>50098.34</td>\n",
       "      <td>21939223599</td>\n",
       "    </tr>\n",
       "    <tr>\n",
       "      <th>5</th>\n",
       "      <td>2021-12-11</td>\n",
       "      <td>47264.63</td>\n",
       "      <td>49458.21</td>\n",
       "      <td>46942.35</td>\n",
       "      <td>49362.51</td>\n",
       "      <td>25775869261</td>\n",
       "    </tr>\n",
       "    <tr>\n",
       "      <th>6</th>\n",
       "      <td>2021-12-10</td>\n",
       "      <td>47642.14</td>\n",
       "      <td>50015.25</td>\n",
       "      <td>47023.70</td>\n",
       "      <td>47243.30</td>\n",
       "      <td>30966005122</td>\n",
       "    </tr>\n",
       "  </tbody>\n",
       "</table>\n",
       "</div>"
      ],
      "text/plain": [
       "   price_date  open_price      high       low  close_price       volume\n",
       "0  2021-12-16    48900.46  49425.57  47529.88     47665.43  27268150947\n",
       "1  2021-12-15    48379.75  49473.96  46671.96     48896.72  36541828520\n",
       "2  2021-12-14    46709.82  48431.40  46424.50     46612.63  34638619079\n",
       "3  2021-12-13    50114.74  50205.00  45894.85     46737.48  32166727776\n",
       "4  2021-12-12    49354.86  50724.87  48725.85     50098.34  21939223599\n",
       "5  2021-12-11    47264.63  49458.21  46942.35     49362.51  25775869261\n",
       "6  2021-12-10    47642.14  50015.25  47023.70     47243.30  30966005122"
      ]
     },
     "execution_count": 70,
     "metadata": {},
     "output_type": "execute_result"
    }
   ],
   "source": [
    "df"
   ]
  },
  {
   "cell_type": "code",
   "execution_count": 71,
   "id": "47dc8ac5",
   "metadata": {},
   "outputs": [],
   "source": [
    "date = df[\"price_date\"][0]"
   ]
  },
  {
   "cell_type": "code",
   "execution_count": 72,
   "id": "2ca00a89",
   "metadata": {},
   "outputs": [],
   "source": [
    "# drop price date columns\n",
    "df.drop(\"price_date\",axis=1,inplace=True)"
   ]
  },
  {
   "cell_type": "code",
   "execution_count": 73,
   "id": "ac6ff7cb",
   "metadata": {},
   "outputs": [],
   "source": [
    "# process the data into format for the model\n",
    "# create new df and shifts all columns by 7 days\n",
    "data = pd.DataFrame()  #create new df\n",
    "for col in df.columns:\n",
    "    for i in range(6, 0, -1): #range for num of days\n",
    "        data[f'{col}-{i}'] = df[col].shift(i)"
   ]
  },
  {
   "cell_type": "code",
   "execution_count": 74,
   "id": "24382882",
   "metadata": {},
   "outputs": [
    {
     "data": {
      "text/html": [
       "<div>\n",
       "<style scoped>\n",
       "    .dataframe tbody tr th:only-of-type {\n",
       "        vertical-align: middle;\n",
       "    }\n",
       "\n",
       "    .dataframe tbody tr th {\n",
       "        vertical-align: top;\n",
       "    }\n",
       "\n",
       "    .dataframe thead th {\n",
       "        text-align: right;\n",
       "    }\n",
       "</style>\n",
       "<table border=\"1\" class=\"dataframe\">\n",
       "  <thead>\n",
       "    <tr style=\"text-align: right;\">\n",
       "      <th></th>\n",
       "      <th>open_price-6</th>\n",
       "      <th>open_price-5</th>\n",
       "      <th>open_price-4</th>\n",
       "      <th>open_price-3</th>\n",
       "      <th>open_price-2</th>\n",
       "      <th>open_price-1</th>\n",
       "      <th>high-6</th>\n",
       "      <th>high-5</th>\n",
       "      <th>high-4</th>\n",
       "      <th>high-3</th>\n",
       "      <th>...</th>\n",
       "      <th>close_price-4</th>\n",
       "      <th>close_price-3</th>\n",
       "      <th>close_price-2</th>\n",
       "      <th>close_price-1</th>\n",
       "      <th>volume-6</th>\n",
       "      <th>volume-5</th>\n",
       "      <th>volume-4</th>\n",
       "      <th>volume-3</th>\n",
       "      <th>volume-2</th>\n",
       "      <th>volume-1</th>\n",
       "    </tr>\n",
       "  </thead>\n",
       "  <tbody>\n",
       "    <tr>\n",
       "      <th>0</th>\n",
       "      <td>NaN</td>\n",
       "      <td>NaN</td>\n",
       "      <td>NaN</td>\n",
       "      <td>NaN</td>\n",
       "      <td>NaN</td>\n",
       "      <td>NaN</td>\n",
       "      <td>NaN</td>\n",
       "      <td>NaN</td>\n",
       "      <td>NaN</td>\n",
       "      <td>NaN</td>\n",
       "      <td>...</td>\n",
       "      <td>NaN</td>\n",
       "      <td>NaN</td>\n",
       "      <td>NaN</td>\n",
       "      <td>NaN</td>\n",
       "      <td>NaN</td>\n",
       "      <td>NaN</td>\n",
       "      <td>NaN</td>\n",
       "      <td>NaN</td>\n",
       "      <td>NaN</td>\n",
       "      <td>NaN</td>\n",
       "    </tr>\n",
       "    <tr>\n",
       "      <th>1</th>\n",
       "      <td>NaN</td>\n",
       "      <td>NaN</td>\n",
       "      <td>NaN</td>\n",
       "      <td>NaN</td>\n",
       "      <td>NaN</td>\n",
       "      <td>48900.46</td>\n",
       "      <td>NaN</td>\n",
       "      <td>NaN</td>\n",
       "      <td>NaN</td>\n",
       "      <td>NaN</td>\n",
       "      <td>...</td>\n",
       "      <td>NaN</td>\n",
       "      <td>NaN</td>\n",
       "      <td>NaN</td>\n",
       "      <td>47665.43</td>\n",
       "      <td>NaN</td>\n",
       "      <td>NaN</td>\n",
       "      <td>NaN</td>\n",
       "      <td>NaN</td>\n",
       "      <td>NaN</td>\n",
       "      <td>2.726815e+10</td>\n",
       "    </tr>\n",
       "    <tr>\n",
       "      <th>2</th>\n",
       "      <td>NaN</td>\n",
       "      <td>NaN</td>\n",
       "      <td>NaN</td>\n",
       "      <td>NaN</td>\n",
       "      <td>48900.46</td>\n",
       "      <td>48379.75</td>\n",
       "      <td>NaN</td>\n",
       "      <td>NaN</td>\n",
       "      <td>NaN</td>\n",
       "      <td>NaN</td>\n",
       "      <td>...</td>\n",
       "      <td>NaN</td>\n",
       "      <td>NaN</td>\n",
       "      <td>47665.43</td>\n",
       "      <td>48896.72</td>\n",
       "      <td>NaN</td>\n",
       "      <td>NaN</td>\n",
       "      <td>NaN</td>\n",
       "      <td>NaN</td>\n",
       "      <td>2.726815e+10</td>\n",
       "      <td>3.654183e+10</td>\n",
       "    </tr>\n",
       "    <tr>\n",
       "      <th>3</th>\n",
       "      <td>NaN</td>\n",
       "      <td>NaN</td>\n",
       "      <td>NaN</td>\n",
       "      <td>48900.46</td>\n",
       "      <td>48379.75</td>\n",
       "      <td>46709.82</td>\n",
       "      <td>NaN</td>\n",
       "      <td>NaN</td>\n",
       "      <td>NaN</td>\n",
       "      <td>49425.57</td>\n",
       "      <td>...</td>\n",
       "      <td>NaN</td>\n",
       "      <td>47665.43</td>\n",
       "      <td>48896.72</td>\n",
       "      <td>46612.63</td>\n",
       "      <td>NaN</td>\n",
       "      <td>NaN</td>\n",
       "      <td>NaN</td>\n",
       "      <td>2.726815e+10</td>\n",
       "      <td>3.654183e+10</td>\n",
       "      <td>3.463862e+10</td>\n",
       "    </tr>\n",
       "    <tr>\n",
       "      <th>4</th>\n",
       "      <td>NaN</td>\n",
       "      <td>NaN</td>\n",
       "      <td>48900.46</td>\n",
       "      <td>48379.75</td>\n",
       "      <td>46709.82</td>\n",
       "      <td>50114.74</td>\n",
       "      <td>NaN</td>\n",
       "      <td>NaN</td>\n",
       "      <td>49425.57</td>\n",
       "      <td>49473.96</td>\n",
       "      <td>...</td>\n",
       "      <td>47665.43</td>\n",
       "      <td>48896.72</td>\n",
       "      <td>46612.63</td>\n",
       "      <td>46737.48</td>\n",
       "      <td>NaN</td>\n",
       "      <td>NaN</td>\n",
       "      <td>2.726815e+10</td>\n",
       "      <td>3.654183e+10</td>\n",
       "      <td>3.463862e+10</td>\n",
       "      <td>3.216673e+10</td>\n",
       "    </tr>\n",
       "    <tr>\n",
       "      <th>5</th>\n",
       "      <td>NaN</td>\n",
       "      <td>48900.46</td>\n",
       "      <td>48379.75</td>\n",
       "      <td>46709.82</td>\n",
       "      <td>50114.74</td>\n",
       "      <td>49354.86</td>\n",
       "      <td>NaN</td>\n",
       "      <td>49425.57</td>\n",
       "      <td>49473.96</td>\n",
       "      <td>48431.40</td>\n",
       "      <td>...</td>\n",
       "      <td>48896.72</td>\n",
       "      <td>46612.63</td>\n",
       "      <td>46737.48</td>\n",
       "      <td>50098.34</td>\n",
       "      <td>NaN</td>\n",
       "      <td>2.726815e+10</td>\n",
       "      <td>3.654183e+10</td>\n",
       "      <td>3.463862e+10</td>\n",
       "      <td>3.216673e+10</td>\n",
       "      <td>2.193922e+10</td>\n",
       "    </tr>\n",
       "    <tr>\n",
       "      <th>6</th>\n",
       "      <td>48900.46</td>\n",
       "      <td>48379.75</td>\n",
       "      <td>46709.82</td>\n",
       "      <td>50114.74</td>\n",
       "      <td>49354.86</td>\n",
       "      <td>47264.63</td>\n",
       "      <td>49425.57</td>\n",
       "      <td>49473.96</td>\n",
       "      <td>48431.40</td>\n",
       "      <td>50205.00</td>\n",
       "      <td>...</td>\n",
       "      <td>46612.63</td>\n",
       "      <td>46737.48</td>\n",
       "      <td>50098.34</td>\n",
       "      <td>49362.51</td>\n",
       "      <td>2.726815e+10</td>\n",
       "      <td>3.654183e+10</td>\n",
       "      <td>3.463862e+10</td>\n",
       "      <td>3.216673e+10</td>\n",
       "      <td>2.193922e+10</td>\n",
       "      <td>2.577587e+10</td>\n",
       "    </tr>\n",
       "  </tbody>\n",
       "</table>\n",
       "<p>7 rows × 30 columns</p>\n",
       "</div>"
      ],
      "text/plain": [
       "   open_price-6  open_price-5  open_price-4  open_price-3  open_price-2  \\\n",
       "0           NaN           NaN           NaN           NaN           NaN   \n",
       "1           NaN           NaN           NaN           NaN           NaN   \n",
       "2           NaN           NaN           NaN           NaN      48900.46   \n",
       "3           NaN           NaN           NaN      48900.46      48379.75   \n",
       "4           NaN           NaN      48900.46      48379.75      46709.82   \n",
       "5           NaN      48900.46      48379.75      46709.82      50114.74   \n",
       "6      48900.46      48379.75      46709.82      50114.74      49354.86   \n",
       "\n",
       "   open_price-1    high-6    high-5    high-4    high-3  ...  close_price-4  \\\n",
       "0           NaN       NaN       NaN       NaN       NaN  ...            NaN   \n",
       "1      48900.46       NaN       NaN       NaN       NaN  ...            NaN   \n",
       "2      48379.75       NaN       NaN       NaN       NaN  ...            NaN   \n",
       "3      46709.82       NaN       NaN       NaN  49425.57  ...            NaN   \n",
       "4      50114.74       NaN       NaN  49425.57  49473.96  ...       47665.43   \n",
       "5      49354.86       NaN  49425.57  49473.96  48431.40  ...       48896.72   \n",
       "6      47264.63  49425.57  49473.96  48431.40  50205.00  ...       46612.63   \n",
       "\n",
       "   close_price-3  close_price-2  close_price-1      volume-6      volume-5  \\\n",
       "0            NaN            NaN            NaN           NaN           NaN   \n",
       "1            NaN            NaN       47665.43           NaN           NaN   \n",
       "2            NaN       47665.43       48896.72           NaN           NaN   \n",
       "3       47665.43       48896.72       46612.63           NaN           NaN   \n",
       "4       48896.72       46612.63       46737.48           NaN           NaN   \n",
       "5       46612.63       46737.48       50098.34           NaN  2.726815e+10   \n",
       "6       46737.48       50098.34       49362.51  2.726815e+10  3.654183e+10   \n",
       "\n",
       "       volume-4      volume-3      volume-2      volume-1  \n",
       "0           NaN           NaN           NaN           NaN  \n",
       "1           NaN           NaN           NaN  2.726815e+10  \n",
       "2           NaN           NaN  2.726815e+10  3.654183e+10  \n",
       "3           NaN  2.726815e+10  3.654183e+10  3.463862e+10  \n",
       "4  2.726815e+10  3.654183e+10  3.463862e+10  3.216673e+10  \n",
       "5  3.654183e+10  3.463862e+10  3.216673e+10  2.193922e+10  \n",
       "6  3.463862e+10  3.216673e+10  2.193922e+10  2.577587e+10  \n",
       "\n",
       "[7 rows x 30 columns]"
      ]
     },
     "execution_count": 74,
     "metadata": {},
     "output_type": "execute_result"
    }
   ],
   "source": [
    "data"
   ]
  },
  {
   "cell_type": "code",
   "execution_count": 75,
   "id": "d4513b35",
   "metadata": {},
   "outputs": [],
   "source": [
    "# drop NA that are created during the shift\n",
    "data.dropna(axis=0,inplace=True)"
   ]
  },
  {
   "cell_type": "code",
   "execution_count": 76,
   "id": "bcbf614a",
   "metadata": {},
   "outputs": [
    {
     "data": {
      "text/html": [
       "<div>\n",
       "<style scoped>\n",
       "    .dataframe tbody tr th:only-of-type {\n",
       "        vertical-align: middle;\n",
       "    }\n",
       "\n",
       "    .dataframe tbody tr th {\n",
       "        vertical-align: top;\n",
       "    }\n",
       "\n",
       "    .dataframe thead th {\n",
       "        text-align: right;\n",
       "    }\n",
       "</style>\n",
       "<table border=\"1\" class=\"dataframe\">\n",
       "  <thead>\n",
       "    <tr style=\"text-align: right;\">\n",
       "      <th></th>\n",
       "      <th>open_price-6</th>\n",
       "      <th>open_price-5</th>\n",
       "      <th>open_price-4</th>\n",
       "      <th>open_price-3</th>\n",
       "      <th>open_price-2</th>\n",
       "      <th>open_price-1</th>\n",
       "      <th>high-6</th>\n",
       "      <th>high-5</th>\n",
       "      <th>high-4</th>\n",
       "      <th>high-3</th>\n",
       "      <th>...</th>\n",
       "      <th>close_price-4</th>\n",
       "      <th>close_price-3</th>\n",
       "      <th>close_price-2</th>\n",
       "      <th>close_price-1</th>\n",
       "      <th>volume-6</th>\n",
       "      <th>volume-5</th>\n",
       "      <th>volume-4</th>\n",
       "      <th>volume-3</th>\n",
       "      <th>volume-2</th>\n",
       "      <th>volume-1</th>\n",
       "    </tr>\n",
       "  </thead>\n",
       "  <tbody>\n",
       "    <tr>\n",
       "      <th>6</th>\n",
       "      <td>48900.46</td>\n",
       "      <td>48379.75</td>\n",
       "      <td>46709.82</td>\n",
       "      <td>50114.74</td>\n",
       "      <td>49354.86</td>\n",
       "      <td>47264.63</td>\n",
       "      <td>49425.57</td>\n",
       "      <td>49473.96</td>\n",
       "      <td>48431.4</td>\n",
       "      <td>50205.0</td>\n",
       "      <td>...</td>\n",
       "      <td>46612.63</td>\n",
       "      <td>46737.48</td>\n",
       "      <td>50098.34</td>\n",
       "      <td>49362.51</td>\n",
       "      <td>2.726815e+10</td>\n",
       "      <td>3.654183e+10</td>\n",
       "      <td>3.463862e+10</td>\n",
       "      <td>3.216673e+10</td>\n",
       "      <td>2.193922e+10</td>\n",
       "      <td>2.577587e+10</td>\n",
       "    </tr>\n",
       "  </tbody>\n",
       "</table>\n",
       "<p>1 rows × 30 columns</p>\n",
       "</div>"
      ],
      "text/plain": [
       "   open_price-6  open_price-5  open_price-4  open_price-3  open_price-2  \\\n",
       "6      48900.46      48379.75      46709.82      50114.74      49354.86   \n",
       "\n",
       "   open_price-1    high-6    high-5   high-4   high-3  ...  close_price-4  \\\n",
       "6      47264.63  49425.57  49473.96  48431.4  50205.0  ...       46612.63   \n",
       "\n",
       "   close_price-3  close_price-2  close_price-1      volume-6      volume-5  \\\n",
       "6       46737.48       50098.34       49362.51  2.726815e+10  3.654183e+10   \n",
       "\n",
       "       volume-4      volume-3      volume-2      volume-1  \n",
       "6  3.463862e+10  3.216673e+10  2.193922e+10  2.577587e+10  \n",
       "\n",
       "[1 rows x 30 columns]"
      ]
     },
     "execution_count": 76,
     "metadata": {},
     "output_type": "execute_result"
    }
   ],
   "source": [
    "data"
   ]
  },
  {
   "cell_type": "code",
   "execution_count": 25,
   "id": "a4bea2d2",
   "metadata": {},
   "outputs": [],
   "source": [
    "# drop price date columns \n",
    "data.drop([\"price_date-6\",\"price_date-5\",\"price_date-4\",\n",
    "           \"price_date-3\",\"price_date-2\",\"price_date-1\"],axis=1,inplace=True)"
   ]
  },
  {
   "cell_type": "code",
   "execution_count": 20,
   "id": "1ae574f1",
   "metadata": {},
   "outputs": [],
   "source": [
    "# read in final model file\n",
    "loaded_model = load('final_model.joblib')"
   ]
  },
  {
   "cell_type": "code",
   "execution_count": 35,
   "id": "343f6b16",
   "metadata": {},
   "outputs": [],
   "source": [
    "# prediction for 7 days from now \n",
    "prediction = loaded_model.predict_proba(data) # ran this "
   ]
  },
  {
   "cell_type": "code",
   "execution_count": 84,
   "id": "c092cb75",
   "metadata": {},
   "outputs": [],
   "source": [
    "#prediction[0][1]\n",
    "output_message = \"\"\n",
    "if prediction[0][0] > prediction[0][1]:\n",
    "    output_message= \"SELL NOW!!\"\n",
    "else:\n",
    "    output_message = \"BUY NOW!!\"\n",
    "\n",
    "    #print (pred)\n",
    "    "
   ]
  },
  {
   "cell_type": "code",
   "execution_count": 85,
   "id": "bdc9ce39",
   "metadata": {},
   "outputs": [
    {
     "data": {
      "text/plain": [
       "'BUY NOW!!'"
      ]
     },
     "execution_count": 85,
     "metadata": {},
     "output_type": "execute_result"
    }
   ],
   "source": [
    "output_message"
   ]
  },
  {
   "cell_type": "code",
   "execution_count": 30,
   "id": "030f8b0f",
   "metadata": {},
   "outputs": [
    {
     "data": {
      "text/plain": [
       "array([[4.89004600e+04, 4.83797500e+04, 4.67098200e+04, 5.01147400e+04,\n",
       "        4.93548600e+04, 4.72646300e+04, 4.94255700e+04, 4.94739600e+04,\n",
       "        4.84314000e+04, 5.02050000e+04, 5.07248700e+04, 4.94582100e+04,\n",
       "        4.75298800e+04, 4.66719600e+04, 4.64245000e+04, 4.58948500e+04,\n",
       "        4.87258500e+04, 4.69423500e+04, 4.76654300e+04, 4.88967200e+04,\n",
       "        4.66126300e+04, 4.67374800e+04, 5.00983400e+04, 4.93625100e+04,\n",
       "        2.72681509e+10, 3.65418285e+10, 3.46386191e+10, 3.21667278e+10,\n",
       "        2.19392236e+10, 2.57758693e+10]])"
      ]
     },
     "execution_count": 30,
     "metadata": {},
     "output_type": "execute_result"
    }
   ],
   "source": [
    "data.values"
   ]
  },
  {
   "cell_type": "code",
   "execution_count": 13,
   "id": "0c93650d",
   "metadata": {},
   "outputs": [
    {
     "data": {
      "text/html": [
       "<div>\n",
       "<style scoped>\n",
       "    .dataframe tbody tr th:only-of-type {\n",
       "        vertical-align: middle;\n",
       "    }\n",
       "\n",
       "    .dataframe tbody tr th {\n",
       "        vertical-align: top;\n",
       "    }\n",
       "\n",
       "    .dataframe thead th {\n",
       "        text-align: right;\n",
       "    }\n",
       "</style>\n",
       "<table border=\"1\" class=\"dataframe\">\n",
       "  <thead>\n",
       "    <tr style=\"text-align: right;\">\n",
       "      <th></th>\n",
       "    </tr>\n",
       "  </thead>\n",
       "  <tbody>\n",
       "    <tr>\n",
       "      <th>0</th>\n",
       "    </tr>\n",
       "    <tr>\n",
       "      <th>1</th>\n",
       "    </tr>\n",
       "    <tr>\n",
       "      <th>2</th>\n",
       "    </tr>\n",
       "    <tr>\n",
       "      <th>3</th>\n",
       "    </tr>\n",
       "    <tr>\n",
       "      <th>4</th>\n",
       "    </tr>\n",
       "    <tr>\n",
       "      <th>5</th>\n",
       "    </tr>\n",
       "  </tbody>\n",
       "</table>\n",
       "</div>"
      ],
      "text/plain": [
       "Empty DataFrame\n",
       "Columns: []\n",
       "Index: [0, 1, 2, 3, 4, 5]"
      ]
     },
     "execution_count": 13,
     "metadata": {},
     "output_type": "execute_result"
    }
   ],
   "source": [
    "# read pickle file\n",
    "\n",
    "# run predict function (output 2x1)\n",
    "\n",
    "# "
   ]
  },
  {
   "cell_type": "code",
   "execution_count": 5,
   "id": "1a0045bd",
   "metadata": {},
   "outputs": [],
   "source": [
    "# read in your final model"
   ]
  },
  {
   "cell_type": "code",
   "execution_count": null,
   "id": "0178c81c",
   "metadata": {},
   "outputs": [],
   "source": [
    "# run the data through your model to spit out a prediction"
   ]
  },
  {
   "cell_type": "code",
   "execution_count": 30,
   "id": "6cc2213d",
   "metadata": {},
   "outputs": [],
   "source": [
    "class Sentence:\n",
    "    def __init__(self,sentence):\n",
    "        self.sentence = sentence\n",
    "        self.index = 0\n",
    "        self.words = self.sentence.split()\n",
    "        \n",
    "    def __iter__(self):\n",
    "        return self\n",
    "        \n",
    "    def __next__(self):\n",
    "        if self.index >= len(self.words):\n",
    "            raise StopIteration\n",
    "        index = self.index\n",
    "        self.index += 1\n",
    "        return self.words[index]\n"
   ]
  },
  {
   "cell_type": "code",
   "execution_count": 31,
   "id": "d59d47f6",
   "metadata": {},
   "outputs": [],
   "source": [
    "my_sentence = Sentence(\"This is a Test\")"
   ]
  },
  {
   "cell_type": "code",
   "execution_count": 32,
   "id": "873ae774",
   "metadata": {},
   "outputs": [
    {
     "data": {
      "text/plain": [
       "<__main__.Sentence at 0x7fa25219c580>"
      ]
     },
     "execution_count": 32,
     "metadata": {},
     "output_type": "execute_result"
    }
   ],
   "source": [
    "my_sentence"
   ]
  },
  {
   "cell_type": "code",
   "execution_count": 33,
   "id": "0f466531",
   "metadata": {},
   "outputs": [
    {
     "name": "stdout",
     "output_type": "stream",
     "text": [
      "This\n",
      "is\n",
      "a\n",
      "Test\n"
     ]
    }
   ],
   "source": [
    "for word in my_sentence:\n",
    "    print(word)"
   ]
  },
  {
   "cell_type": "code",
   "execution_count": 55,
   "id": "d8a1f21d",
   "metadata": {},
   "outputs": [],
   "source": [
    "def sentences(sentence):\n",
    "    for word in sentence.split():\n",
    "        yield word\n"
   ]
  },
  {
   "cell_type": "code",
   "execution_count": 56,
   "id": "d9cf1ef9",
   "metadata": {},
   "outputs": [],
   "source": [
    "my_sentence = sentences(\"This is a Test\")"
   ]
  },
  {
   "cell_type": "code",
   "execution_count": 57,
   "id": "9fd6a15b",
   "metadata": {},
   "outputs": [
    {
     "name": "stdout",
     "output_type": "stream",
     "text": [
      "This\n",
      "is\n",
      "a\n",
      "Test\n"
     ]
    }
   ],
   "source": [
    "for word in my_sentence:\n",
    "    print(word)"
   ]
  },
  {
   "cell_type": "code",
   "execution_count": 47,
   "id": "10abdcc2",
   "metadata": {},
   "outputs": [
    {
     "ename": "TypeError",
     "evalue": "function missing required argument 'year' (pos 1)",
     "output_type": "error",
     "traceback": [
      "\u001b[0;31m---------------------------------------------------------------------------\u001b[0m",
      "\u001b[0;31mTypeError\u001b[0m                                 Traceback (most recent call last)",
      "\u001b[0;32m/var/folders/lp/09rh0cpd0xj_bpt_5zt2qwnh0000gn/T/ipykernel_46268/619722371.py\u001b[0m in \u001b[0;36m<module>\u001b[0;34m\u001b[0m\n\u001b[0;32m----> 1\u001b[0;31m \u001b[0mdatetime\u001b[0m\u001b[0;34m.\u001b[0m\u001b[0mdate\u001b[0m\u001b[0;34m(\u001b[0m\u001b[0;34m)\u001b[0m\u001b[0;34m\u001b[0m\u001b[0;34m\u001b[0m\u001b[0m\n\u001b[0m",
      "\u001b[0;31mTypeError\u001b[0m: function missing required argument 'year' (pos 1)"
     ]
    }
   ],
   "source": [
    "datetime.datetime"
   ]
  },
  {
   "cell_type": "code",
   "execution_count": 78,
   "id": "2d7352ec",
   "metadata": {},
   "outputs": [],
   "source": [
    "predicted_date = date"
   ]
  },
  {
   "cell_type": "code",
   "execution_count": 80,
   "id": "879300fc",
   "metadata": {},
   "outputs": [],
   "source": [
    "predicted_date += datetime.timedelta(days=7)"
   ]
  },
  {
   "cell_type": "code",
   "execution_count": 81,
   "id": "99b52635",
   "metadata": {},
   "outputs": [
    {
     "data": {
      "text/plain": [
       "datetime.date(2021, 12, 23)"
      ]
     },
     "execution_count": 81,
     "metadata": {},
     "output_type": "execute_result"
    }
   ],
   "source": [
    "predicted_date"
   ]
  },
  {
   "cell_type": "code",
   "execution_count": 51,
   "id": "8c7ba20f",
   "metadata": {},
   "outputs": [
    {
     "name": "stdout",
     "output_type": "stream",
     "text": [
      "2021-12-23\n"
     ]
    }
   ],
   "source": [
    "print(df[\"price_date\"][0])"
   ]
  },
  {
   "cell_type": "code",
   "execution_count": 83,
   "id": "85b3a480",
   "metadata": {},
   "outputs": [
    {
     "name": "stdout",
     "output_type": "stream",
     "text": [
      "Today's date is 2021-12-16\n"
     ]
    }
   ],
   "source": [
    "print(f\"Today's date is {date}\")"
   ]
  },
  {
   "cell_type": "code",
   "execution_count": null,
   "id": "7828b104",
   "metadata": {},
   "outputs": [],
   "source": []
  }
 ],
 "metadata": {
  "kernelspec": {
   "display_name": "Python 3 (ipykernel)",
   "language": "python",
   "name": "python3"
  },
  "language_info": {
   "codemirror_mode": {
    "name": "ipython",
    "version": 3
   },
   "file_extension": ".py",
   "mimetype": "text/x-python",
   "name": "python",
   "nbconvert_exporter": "python",
   "pygments_lexer": "ipython3",
   "version": "3.8.12"
  }
 },
 "nbformat": 4,
 "nbformat_minor": 5
}
